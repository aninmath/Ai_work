{
 "cells": [
  {
   "cell_type": "code",
   "execution_count": 26,
   "id": "5c6e1aca",
   "metadata": {},
   "outputs": [],
   "source": [
    "from langchain_google_genai import ChatGoogleGenerativeAI\n",
    "from dotenv import load_dotenv\n",
    "from langchain_core.output_parsers import PydanticOutputParser\n",
    "from langchain_core.prompts import PromptTemplate\n",
    "from pydantic import BaseModel, Field\n",
    "\n",
    "load_dotenv()\n",
    "\n",
    "model = ChatGoogleGenerativeAI(model='gemini-2.5-flash')\n"
   ]
  },
  {
   "cell_type": "code",
   "execution_count": 21,
   "id": "973c6f37",
   "metadata": {},
   "outputs": [],
   "source": [
    "#this will work as schema\n",
    "\n",
    "class Person(BaseModel):\n",
    "\n",
    "    Name: str = Field (description= \"Name of the person\")\n",
    "    Bith_Year : int = Field (gt= 18 , description= \"Birth year of the person\")\n",
    "    city : str = Field(description= \"city where the person was born\")\n",
    "    \n",
    "    \n",
    "parser = PydanticOutputParser(pydantic_object=Person)\n",
    "\n",
    "# now about the template\n",
    "\n",
    "template = PromptTemplate(\n",
    "    input_variables = ['name'],\n",
    "    template = \"generate name, birthyear and city of a historical {name} \\n {format_instruction}\",\n",
    "    partial_variables= {'format_instruction': parser.get_format_instructions()}\n",
    ")"
   ]
  },
  {
   "cell_type": "code",
   "execution_count": 30,
   "id": "598e4c0c",
   "metadata": {},
   "outputs": [
    {
     "data": {
      "text/plain": [
       "Person(Name='Adolf Hitler', Bith_Year=1889, city='Braunau am Inn')"
      ]
     },
     "execution_count": 30,
     "metadata": {},
     "output_type": "execute_result"
    }
   ],
   "source": [
    "chain = template | model | parser\n",
    "\n",
    "\n",
    "\n",
    "name = chain.invoke({'name': 'hitler'})\n"
   ]
  },
  {
   "cell_type": "code",
   "execution_count": 31,
   "id": "a1203986",
   "metadata": {},
   "outputs": [],
   "source": [
    "def filldata (data):\n",
    "    name = chain.invoke({'name': data})\n",
    "    return name.city"
   ]
  },
  {
   "cell_type": "code",
   "execution_count": 23,
   "id": "0a4b72fe",
   "metadata": {},
   "outputs": [],
   "source": [
    "import pandas as pd\n",
    "\n",
    "\n",
    "data = {\n",
    "    \"Name\": [\n",
    "        \"Leonardo da Vinci\",\n",
    "        \"Rabindranath Tagore\",\n",
    "        \"Nelson Mandela\",\n",
    "        \"Cleopatra\",\n",
    "        \"Albert Einstein\"\n",
    "    ]}\n",
    "\n",
    "df = pd.DataFrame(data)\n"
   ]
  },
  {
   "cell_type": "code",
   "execution_count": 33,
   "id": "4eb7a178",
   "metadata": {},
   "outputs": [],
   "source": [
    "df['City'] = df['Name'].apply(filldata)"
   ]
  },
  {
   "cell_type": "code",
   "execution_count": 34,
   "id": "f3034c79",
   "metadata": {},
   "outputs": [
    {
     "data": {
      "text/html": [
       "<div>\n",
       "<style scoped>\n",
       "    .dataframe tbody tr th:only-of-type {\n",
       "        vertical-align: middle;\n",
       "    }\n",
       "\n",
       "    .dataframe tbody tr th {\n",
       "        vertical-align: top;\n",
       "    }\n",
       "\n",
       "    .dataframe thead th {\n",
       "        text-align: right;\n",
       "    }\n",
       "</style>\n",
       "<table border=\"1\" class=\"dataframe\">\n",
       "  <thead>\n",
       "    <tr style=\"text-align: right;\">\n",
       "      <th></th>\n",
       "      <th>Name</th>\n",
       "      <th>City</th>\n",
       "    </tr>\n",
       "  </thead>\n",
       "  <tbody>\n",
       "    <tr>\n",
       "      <th>0</th>\n",
       "      <td>Leonardo da Vinci</td>\n",
       "      <td>Vinci</td>\n",
       "    </tr>\n",
       "    <tr>\n",
       "      <th>1</th>\n",
       "      <td>Rabindranath Tagore</td>\n",
       "      <td>Kolkata</td>\n",
       "    </tr>\n",
       "    <tr>\n",
       "      <th>2</th>\n",
       "      <td>Nelson Mandela</td>\n",
       "      <td>Mvezo</td>\n",
       "    </tr>\n",
       "    <tr>\n",
       "      <th>3</th>\n",
       "      <td>Cleopatra</td>\n",
       "      <td>Alexandria</td>\n",
       "    </tr>\n",
       "    <tr>\n",
       "      <th>4</th>\n",
       "      <td>Albert Einstein</td>\n",
       "      <td>Ulm</td>\n",
       "    </tr>\n",
       "  </tbody>\n",
       "</table>\n",
       "</div>"
      ],
      "text/plain": [
       "                  Name        City\n",
       "0    Leonardo da Vinci       Vinci\n",
       "1  Rabindranath Tagore     Kolkata\n",
       "2       Nelson Mandela       Mvezo\n",
       "3            Cleopatra  Alexandria\n",
       "4      Albert Einstein         Ulm"
      ]
     },
     "execution_count": 34,
     "metadata": {},
     "output_type": "execute_result"
    }
   ],
   "source": [
    "df"
   ]
  }
 ],
 "metadata": {
  "kernelspec": {
   "display_name": "venv",
   "language": "python",
   "name": "python3"
  },
  "language_info": {
   "codemirror_mode": {
    "name": "ipython",
    "version": 3
   },
   "file_extension": ".py",
   "mimetype": "text/x-python",
   "name": "python",
   "nbconvert_exporter": "python",
   "pygments_lexer": "ipython3",
   "version": "3.13.5"
  }
 },
 "nbformat": 4,
 "nbformat_minor": 5
}
