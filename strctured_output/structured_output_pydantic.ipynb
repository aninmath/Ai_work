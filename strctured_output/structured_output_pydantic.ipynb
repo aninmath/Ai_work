{
 "cells": [
  {
   "cell_type": "code",
   "execution_count": 1,
   "id": "bb23bdf5",
   "metadata": {},
   "outputs": [
    {
     "name": "stderr",
     "output_type": "stream",
     "text": [
      "c:\\Users\\Anindya.Sarkar\\Documents\\Langchain\\venv\\Lib\\site-packages\\tqdm\\auto.py:21: TqdmWarning: IProgress not found. Please update jupyter and ipywidgets. See https://ipywidgets.readthedocs.io/en/stable/user_install.html\n",
      "  from .autonotebook import tqdm as notebook_tqdm\n"
     ]
    }
   ],
   "source": [
    "from langchain_google_genai import ChatGoogleGenerativeAI\n",
    "from dotenv import load_dotenv\n",
    "\n",
    "load_dotenv()\n",
    "\n",
    "model = ChatGoogleGenerativeAI(model='gemini-2.5-flash')\n"
   ]
  },
  {
   "cell_type": "code",
   "execution_count": 2,
   "id": "9c43ae75",
   "metadata": {},
   "outputs": [],
   "source": [
    "file_path = 'drill.txt'\n",
    "\n",
    "\n",
    "with open(file_path, \"r\") as file:\n",
    "    content = file.read()"
   ]
  },
  {
   "cell_type": "code",
   "execution_count": 3,
   "id": "a65c3b37",
   "metadata": {},
   "outputs": [],
   "source": [
    "from pydantic import BaseModel, Field\n",
    "\n",
    "class Drill(BaseModel):\n",
    "    drill_or_not : str = Field(description= \"mention whether its a valid drill or not, if not a drill mention 'not drill\")\n",
    "    drill_type : str = Field (description= 'mention drill type among this list : Fire Drill, Security drill, First Aid drill')\n",
    "    response_time : str = Field(description= \"metion whether response time was good or bad\")\n",
    " \n",
    "\n",
    "check = model.with_structured_output (Drill)"
   ]
  },
  {
   "cell_type": "code",
   "execution_count": 4,
   "id": "944c7f4c",
   "metadata": {},
   "outputs": [
    {
     "data": {
      "text/plain": [
       "Drill(drill_or_not='valid drill', drill_type='Fire Drill', response_time='good')"
      ]
     },
     "execution_count": 4,
     "metadata": {},
     "output_type": "execute_result"
    }
   ],
   "source": [
    "check.invoke(content)"
   ]
  },
  {
   "cell_type": "code",
   "execution_count": null,
   "id": "6b51671a",
   "metadata": {},
   "outputs": [],
   "source": []
  }
 ],
 "metadata": {
  "kernelspec": {
   "display_name": "venv",
   "language": "python",
   "name": "python3"
  },
  "language_info": {
   "codemirror_mode": {
    "name": "ipython",
    "version": 3
   },
   "file_extension": ".py",
   "mimetype": "text/x-python",
   "name": "python",
   "nbconvert_exporter": "python",
   "pygments_lexer": "ipython3",
   "version": "3.13.5"
  }
 },
 "nbformat": 4,
 "nbformat_minor": 5
}
